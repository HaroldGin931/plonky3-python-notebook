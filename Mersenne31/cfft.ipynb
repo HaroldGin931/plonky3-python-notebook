{
  "cells": [
    {
      "id": "ebda5254-2956-42f9-ab76-4627e17dff73",
      "cell_type": "markdown",
      "source": [
        "## Mersenne Circle Group FFT\n",
        "\n",
        "It demonstrates how to compute the Fast Fourier Transform (FFT) on a Mersenne circle group using Rader’s algorithm. In this context, we focus on sequences whose length is a Mersenne prime (of the form $2^p - 1$). For demonstration purposes, we use $N = 7$ (since $7 = 2^3 - 1$) as our prime length."
      ],
      "metadata": {},
      "attachments": {}
    },
    {
      "id": "00e290f0-d5ec-4049-b9b8-6b4fe9274245",
      "cell_type": "markdown",
      "source": [
        "### Introduction\n",
        "\n",
        "In many applications, such as polynomial commitment schemes and cryptographic proof systems, it is necessary to convert between the evaluation representation and the coefficient representation of a polynomial. When the evaluation domain is a circle (often chosen as roots of unity), the Fast Fourier Transform (FFT) offers an efficient solution. In this notebook, we define a circle domain, perform interpolation (recovering polynomial coefficients from evaluations), and show how to evaluate the polynomial at arbitrary points. We also include an example of extrapolation (low-degree extension)."
      ],
      "metadata": {},
      "attachments": {}
    },
    {
      "id": "face2ec0-11f7-4350-8f07-57e447791264",
      "cell_type": "markdown",
      "source": [
        "### Defining the Circle Domain\n",
        "\n",
        "We define a `CircleDomain` class that represents a set of points on the complex unit circle. For simplicity, the domain size is chosen as a power of two."
      ],
      "metadata": {},
      "attachments": {}
    },
    {
      "id": "3a6caac2-e566-4742-a4dd-45ecb98d6179",
      "cell_type": "code",
      "execution_count": 2,
      "outputs": [],
      "source": [
        "import numpy as np\n",
        "\n",
        "class CircleDomain:\n",
        "    def __init__(self, log_n, shift=0):\n",
        "        \"\"\"\n",
        "        Initialize the circle domain.\n",
        "        \n",
        "        Args:\n",
        "            log_n: logarithm (base 2) of the domain size.\n",
        "            shift: a phase shift applied to all points.\n",
        "        \"\"\"\n",
        "        self.log_n = log_n\n",
        "        self.n = 1 << log_n  # Domain size: 2^log_n\n",
        "        self.shift = shift\n",
        "        # Generate points on the unit circle with an optional shift.\n",
        "        self.points = np.array([np.exp(2j * np.pi * (k + shift) / self.n) for k in range(self.n)])\n",
        "    \n",
        "    def __iter__(self):\n",
        "        return iter(self.points)\n",
        "    \n",
        "    def size(self):\n",
        "        return self.n"
      ],
      "metadata": {}
    },
    {
      "id": "7e520a48-202b-4eda-a0e8-99935dccc6fe",
      "cell_type": "markdown",
      "source": [
        "### Circle Evaluations and Interpolation\n",
        "\n",
        "The `CircleEvaluations` class encapsulates evaluation values (typically obtained by an FFT) over a circle domain. It provides methods to interpolate (recover polynomial coefficients), evaluate the polynomial at an arbitrary point, and extrapolate to a larger domain."
      ],
      "metadata": {},
      "attachments": {}
    },
    {
      "id": "2372e12c-f6d3-4fe3-8601-abb85d444edc",
      "cell_type": "code",
      "execution_count": 3,
      "outputs": [],
      "source": [
        "class CircleEvaluations:\n",
        "    def __init__(self, domain, values):\n",
        "        \"\"\"\n",
        "        Initialize with a circle domain and corresponding evaluation values.\n",
        "        \n",
        "        Args:\n",
        "            domain: an instance of CircleDomain.\n",
        "            values: a list or numpy array of evaluation values.\n",
        "        \"\"\"\n",
        "        self.domain = domain\n",
        "        self.values = np.array(values)\n",
        "        assert self.values.shape[0] == self.domain.size(), \"Mismatch between domain size and number of values.\"\n",
        "    \n",
        "    def interpolate(self):\n",
        "        \"\"\"\n",
        "        Interpolate the polynomial coefficients from the evaluation values using the inverse FFT.\n",
        "        \n",
        "        Returns:\n",
        "            The recovered polynomial coefficients as a numpy array.\n",
        "        \"\"\"\n",
        "        coeffs = np.fft.ifft(self.values)\n",
        "        return coeffs\n",
        "    \n",
        "    def evaluate_at_point(self, point):\n",
        "        \"\"\"\n",
        "        Evaluate the interpolated polynomial at an arbitrary point.\n",
        "        \n",
        "        This is achieved by computing the dot product of the polynomial coefficients\n",
        "        with the monomial basis evaluated at the point.\n",
        "        \n",
        "        Args:\n",
        "            point: the point at which to evaluate the polynomial.\n",
        "        \n",
        "        Returns:\n",
        "            The polynomial evaluation at the given point.\n",
        "        \"\"\"\n",
        "        coeffs = self.interpolate()\n",
        "        n = len(coeffs)\n",
        "        powers = np.array([point**i for i in range(n)])\n",
        "        return np.dot(coeffs, powers)\n",
        "    \n",
        "    def extrapolate(self, target_log_n):\n",
        "        \"\"\"\n",
        "        Extrapolate (compute a low-degree extension) by zero-padding the coefficients to a larger domain.\n",
        "        \n",
        "        Args:\n",
        "            target_log_n: logarithm (base 2) of the target domain size (must be larger than the current domain).\n",
        "        \n",
        "        Returns:\n",
        "            A new CircleEvaluations instance with the extrapolated evaluations.\n",
        "        \"\"\"\n",
        "        coeffs = self.interpolate()\n",
        "        current_n = len(coeffs)\n",
        "        target_n = 1 << target_log_n\n",
        "        if target_n < current_n:\n",
        "            raise ValueError(\"Target domain must be larger than current domain.\")\n",
        "        # Zero-pad the coefficients.\n",
        "        padded_coeffs = np.concatenate([coeffs, np.zeros(target_n - current_n, dtype=complex)])\n",
        "        # Compute the FFT on the padded coefficients to obtain the new evaluation values.\n",
        "        new_values = np.fft.fft(padded_coeffs)\n",
        "        new_domain = CircleDomain(target_log_n, shift=self.domain.shift)\n",
        "        return CircleEvaluations(new_domain, new_values)"
      ],
      "metadata": {}
    },
    {
      "id": "92cfa744-99d7-4ad8-8756-40e523b314e9",
      "cell_type": "markdown",
      "source": [
        "We generate a random polynomial, compute its evaluations on a circle domain via FFT, interpolate to recover the coefficients, and verify the evaluation at an arbitrary point."
      ],
      "metadata": {},
      "attachments": {}
    },
    {
      "id": "37ab8d72-8113-4319-85eb-ee33316ceae9",
      "cell_type": "code",
      "execution_count": 4,
      "outputs": [
        {
          "output_type": "stream",
          "name": "stdout",
          "text": [
            "Original Coefficients:\n[0.37454012+0.60111501j 0.95071431+0.70807258j 0.73199394+0.02058449j\n 0.59865848+0.96990985j 0.15601864+0.83244264j 0.15599452+0.21233911j\n 0.05808361+0.18182497j 0.86617615+0.18340451j]\n\nRecovered Coefficients (via interpolation):\n[0.37454012+0.60111501j 0.95071431+0.70807258j 0.73199394+0.02058449j\n 0.59865848+0.96990985j 0.15601864+0.83244264j 0.15599452+0.21233911j\n 0.05808361+0.18182497j 0.86617615+0.18340451j]\n\nEvaluation at point (1.2+0.5j):\nUsing evaluate_at_point: (-9.093525188073993+6.003573307765665j)\nDirect evaluation: (-9.093525188073993+6.003573307765664j)\n"
          ]
        }
      ],
      "source": [
        "# Set up a circle domain with log_n = 3 (n = 8)\n",
        "log_n = 3\n",
        "domain = CircleDomain(log_n)\n",
        "\n",
        "# Generate a random polynomial of degree n-1.\n",
        "np.random.seed(42)\n",
        "coeffs = np.random.random(1 << log_n) + 1j * np.random.random(1 << log_n)\n",
        "\n",
        "# Compute evaluations using FFT.\n",
        "values = np.fft.fft(coeffs)\n",
        "\n",
        "# Create a CircleEvaluations instance.\n",
        "circle_evals = CircleEvaluations(domain, values)\n",
        "\n",
        "# Interpolate to recover the coefficients.\n",
        "recovered_coeffs = circle_evals.interpolate()\n",
        "print(\"Original Coefficients:\")\n",
        "print(coeffs)\n",
        "print(\"\\nRecovered Coefficients (via interpolation):\")\n",
        "print(recovered_coeffs)\n",
        "\n",
        "# Evaluate the polynomial at an arbitrary point (e.g., 1.2 + 0.5j).\n",
        "point = 1.2 + 0.5j\n",
        "eval_at_point = circle_evals.evaluate_at_point(point)\n",
        "# Direct evaluation using the recovered coefficients.\n",
        "direct_eval = sum(c * (point**i) for i, c in enumerate(recovered_coeffs))\n",
        "print(\"\\nEvaluation at point {}:\".format(point))\n",
        "print(\"Using evaluate_at_point:\", eval_at_point)\n",
        "print(\"Direct evaluation:\", direct_eval)"
      ],
      "metadata": {}
    },
    {
      "id": "46d3c838-f7a3-4d9e-8353-a3412777c0f4",
      "cell_type": "markdown",
      "source": [
        "We demonstrate how to extrapolate to a larger domain. This is analogous to computing a low-degree extension (LDE) of the polynomial."
      ],
      "metadata": {},
      "attachments": {}
    },
    {
      "id": "4718fe98-2791-44c4-9a8d-1137a3e3b7f6",
      "cell_type": "code",
      "execution_count": 5,
      "outputs": [
        {
          "output_type": "stream",
          "name": "stdout",
          "text": [
            "\nExtrapolated Coefficients (zero-padded):\n[ 3.74540119e-01+6.01115012e-01j  9.50714306e-01+7.08072578e-01j\n  7.31993942e-01+2.05844943e-02j  5.98658484e-01+9.69909852e-01j\n  1.56018640e-01+8.32442641e-01j  1.55994520e-01+2.12339111e-01j\n  5.80836122e-02+1.81824967e-01j  8.66176146e-01+1.83404510e-01j\n  2.77555756e-17-5.55111512e-17j  0.00000000e+00+0.00000000e+00j\n -5.55111512e-17-1.38777878e-17j -5.55111512e-17+5.55111512e-17j\n  0.00000000e+00+0.00000000e+00j -1.38777878e-16-6.93889390e-17j\n -4.85722573e-17+6.93889390e-17j  0.00000000e+00+1.38777878e-17j]\n"
          ]
        }
      ],
      "source": [
        "# Extrapolate to a larger domain (e.g., log_n = 4, so n = 16).\n",
        "target_log_n = 4\n",
        "extrapolated_evals = circle_evals.extrapolate(target_log_n)\n",
        "\n",
        "# Interpolate the extrapolated evaluations to obtain new coefficients.\n",
        "extrapolated_coeffs = extrapolated_evals.interpolate()\n",
        "print(\"\\nExtrapolated Coefficients (zero-padded):\")\n",
        "print(extrapolated_coeffs)"
      ],
      "metadata": {}
    },
    {
      "id": "0f72f35d-206e-46df-a2a6-c107426816ea",
      "cell_type": "markdown",
      "source": [
        "### Conclusion\n",
        "\n",
        "In this notebook, we demonstrated a simplified version of FFT-based interpolation and extrapolation on a circle domain. Inspired by a Rust implementation that uses advanced techniques (such as parallel processing and specialized butterfly operations), our Python version shows how to:\n",
        "- Define a circle domain (representing evaluation points on the unit circle),\n",
        "- Recover polynomial coefficients from evaluation values using the inverse FFT,\n",
        "- Evaluate the polynomial at arbitrary points using a monomial basis,\n",
        "- Extend the domain via zero-padding (extrapolation).\n",
        "\n",
        "This method forms a foundation for many advanced algorithms in polynomial commitment schemes and cryptographic protocols."
      ],
      "metadata": {},
      "attachments": {}
    },
    {
      "id": "0c21f273-06ad-4f1e-9435-3d9e41244e2a",
      "cell_type": "code",
      "execution_count": null,
      "outputs": [],
      "source": [
        ""
      ],
      "metadata": {}
    }
  ],
  "metadata": {
    "language_info": {
      "name": "python"
    }
  },
  "nbformat": 4,
  "nbformat_minor": 5
}