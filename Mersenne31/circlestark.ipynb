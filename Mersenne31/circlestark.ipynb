{
  "cells": [
    {
      "id": "0",
      "cell_type": "markdown",
      "source": [
        "## Circle STARK: FRI Prover and Verifier\n",
        "\n",
        "This notebook demonstrates a simplified FRI (Fast Reed-Solomon Interactive Oracle Proofs of Proximity) proof system—one of the core components in Circle STARK protocols. \n",
        "- Commit Phase: Iteratively “fold” a vector of polynomial evaluations using random challenge values.\n",
        "- Query Phase: Generate query proofs by extracting opening pairs from each folding round.\n",
        "- Verification: Reconstruct the folded value from the query proofs and check that it matches the final constant.\n",
        "\n",
        "The simulation uses simplified arithmetic and randomness to illustrate the main ideas behind the FRI prover and verifier."
      ],
      "metadata": {},
      "attachments": {}
    },
    {
      "id": "4d2c35bb-c6db-4634-a12b-0d83f1e85da7",
      "cell_type": "code",
      "execution_count": 1,
      "outputs": [],
      "source": [
        "import numpy as np\n",
        "import random\n",
        "\n",
        "def fold_evals(evals, beta):\n",
        "    \"\"\"\n",
        "    Fold the evaluation vector by combining adjacent pairs with the challenge beta.\n",
        "    \n",
        "    Args:\n",
        "        evals (np.array): The current evaluation vector (must have even length).\n",
        "        beta (float): A randomly sampled challenge.\n",
        "    \n",
        "    Returns:\n",
        "        np.array: A new evaluation vector of half the length.\n",
        "    \"\"\"\n",
        "    new_evals = []\n",
        "    for i in range(0, len(evals), 2):\n",
        "        new_val = evals[i] + beta * evals[i+1]\n",
        "        new_evals.append(new_val)\n",
        "    return np.array(new_evals)"
      ],
      "metadata": {}
    },
    {
      "id": "db4f87f9-4e1a-4545-bae6-9dc919dbf2c1",
      "cell_type": "markdown",
      "source": [
        "### Commit Phase (FRI Prover)\n",
        "\n",
        "In the commit phase, the prover repeatedly folds the evaluation vector until its length reaches a predefined “blowup” factor (here, we use 1 for simplicity). Each folding round uses a fresh challenge value."
      ],
      "metadata": {},
      "attachments": {}
    },
    {
      "id": "fbd8b313-35ff-4aa4-844a-60c3225c5743",
      "cell_type": "code",
      "execution_count": 2,
      "outputs": [],
      "source": [
        "def commit_phase(evals, blowup=1):\n",
        "    \"\"\"\n",
        "    Simulate the commit phase of FRI by iteratively folding the evaluation vector.\n",
        "    \n",
        "    Args:\n",
        "        evals (np.array): The initial evaluation vector.\n",
        "        blowup (int): The target length (e.g. 1).\n",
        "    \n",
        "    Returns:\n",
        "        (list, final_poly): A tuple where the first element is a list of round data \n",
        "                              (each round containing the evaluation vector and beta)\n",
        "                              and final_poly is the folded constant.\n",
        "    \"\"\"\n",
        "    rounds = []\n",
        "    current = evals\n",
        "    while len(current) > blowup:\n",
        "        beta = random.uniform(0.1, 2.0)  # simulate a random challenge\n",
        "        round_data = {'evals': current, 'beta': beta}\n",
        "        rounds.append(round_data)\n",
        "        current = fold_evals(current, beta)\n",
        "    final_poly = current[0]\n",
        "    return rounds, final_poly"
      ],
      "metadata": {}
    },
    {
      "id": "7d9da810-0232-4e62-8d19-6335bae73788",
      "cell_type": "markdown",
      "source": [
        "### Query Phase\n",
        "\n",
        "For each query, the prover extracts “openings” from each commit round. In this simplified version, we assume that queries target even indices so that the corresponding pair in each round is well defined."
      ],
      "metadata": {},
      "attachments": {}
    },
    {
      "id": "2aab669b-3ef9-422e-98d9-52c35d66ce87",
      "cell_type": "code",
      "execution_count": 3,
      "outputs": [],
      "source": [
        "def answer_query(commit_rounds, query_index):\n",
        "    \"\"\"\n",
        "    For a given (even) query index, extract the corresponding pair of values \n",
        "    (v0, v1) from each commit round.\n",
        "    \n",
        "    Args:\n",
        "        commit_rounds (list): List of commit round data from the commit phase.\n",
        "        query_index (int): The chosen query index (assumed even).\n",
        "    \n",
        "    Returns:\n",
        "        list: A list of tuples (v0, v1) for each round.\n",
        "    \"\"\"\n",
        "    proof = []\n",
        "    current_index = query_index\n",
        "    for round_data in commit_rounds:\n",
        "        evals = round_data['evals']\n",
        "        # Ensure current_index is even and in range\n",
        "        q = current_index - (current_index % 2)\n",
        "        if q+1 >= len(evals):\n",
        "            q = len(evals) - 2  # adjust if out-of-bound\n",
        "        v0 = evals[q]\n",
        "        v1 = evals[q+1]\n",
        "        proof.append((v0, v1))\n",
        "        # For the next round, simulate the index update (integer division by 2)\n",
        "        current_index //= 2\n",
        "    return proof"
      ],
      "metadata": {}
    },
    {
      "id": "55767ddd-af01-4098-8c9f-3e17fba6ab65",
      "cell_type": "markdown",
      "source": [
        "### Prover Function\n",
        "\n",
        "The prove function combines the commit phase and query generation. It returns a proof object containing:\n",
        "- The commit rounds (with challenges and intermediate evaluation vectors)\n",
        "- The final folded value (`final_poly`)\n",
        "- A list of query proofs (each including the query index and opening pairs)\n",
        "- A dummy proof-of-work witness"
      ],
      "metadata": {},
      "attachments": {}
    },
    {
      "id": "19029495-73e3-49a6-939f-3b4640ff6132",
      "cell_type": "code",
      "execution_count": 4,
      "outputs": [],
      "source": [
        "def prove(evals, num_queries=2, blowup=1):\n",
        "    \"\"\"\n",
        "    Simulate the FRI prover by executing the commit phase and generating query proofs.\n",
        "    \n",
        "    Args:\n",
        "        evals (np.array): The initial evaluation vector.\n",
        "        num_queries (int): Number of queries to generate.\n",
        "        blowup (int): Target length for the commit phase (e.g., 1).\n",
        "    \n",
        "    Returns:\n",
        "        dict: A proof object containing commit rounds, final_poly, query proofs, and a PoW witness.\n",
        "    \"\"\"\n",
        "    commit_rounds, final_poly = commit_phase(evals, blowup=blowup)\n",
        "    query_proofs = []\n",
        "    max_index = len(commit_rounds[0]['evals'])\n",
        "    # For simplicity, choose random even indices within the range.\n",
        "    for _ in range(num_queries):\n",
        "        query_index = random.randrange(0, max_index, 2)\n",
        "        proof_steps = answer_query(commit_rounds, query_index)\n",
        "        query_proofs.append({'query_index': query_index, 'proof_steps': proof_steps})\n",
        "    proof = {\n",
        "        'commit_rounds': commit_rounds,\n",
        "        'final_poly': final_poly,\n",
        "        'query_proofs': query_proofs,\n",
        "        'pow_witness': random.getrandbits(64)  # Dummy proof-of-work witness\n",
        "    }\n",
        "    return proof"
      ],
      "metadata": {}
    },
    {
      "id": "8b76441a-3d94-45e1-8e64-81e449260e0e",
      "cell_type": "markdown",
      "source": [
        "### Verification Functions\n",
        "\n",
        "The verifier uses the query proofs and commit rounds to re-fold the corresponding values and checks that the final result matches the claimed `final_poly`."
      ],
      "metadata": {},
      "attachments": {}
    },
    {
      "id": "daa24482-42e9-4bff-b52b-d1e18e41598d",
      "cell_type": "code",
      "execution_count": 5,
      "outputs": [],
      "source": [
        "def verify_query(commit_rounds, query_proof, query_index, final_poly):\n",
        "    \"\"\"\n",
        "    Verify a single query proof by re-folding the opened pairs.\n",
        "    \n",
        "    Args:\n",
        "        commit_rounds (list): The commit rounds data.\n",
        "        query_proof (list): The list of opening pairs for this query.\n",
        "        query_index (int): The original query index.\n",
        "        final_poly (complex): The claimed final folded value.\n",
        "    \n",
        "    Returns:\n",
        "        bool: True if the recomputed value matches final_poly, False otherwise.\n",
        "    \"\"\"\n",
        "    computed = None\n",
        "    current_index = query_index\n",
        "    for round_data, (v0, v1) in zip(commit_rounds, query_proof):\n",
        "        beta = round_data['beta']\n",
        "        folded = v0 + beta * v1\n",
        "        computed = folded  # Update computed value for the round\n",
        "        current_index //= 2  # Simulate index update\n",
        "    return np.isclose(computed, final_poly)\n",
        "\n",
        "def verify(proof, num_queries=2, blowup=1):\n",
        "    \"\"\"\n",
        "    Simulate the FRI verifier by checking all query proofs.\n",
        "    \n",
        "    Args:\n",
        "        proof (dict): The proof object produced by the prover.\n",
        "        num_queries (int): Number of queries expected.\n",
        "        blowup (int): Target length for the commit phase.\n",
        "    \n",
        "    Returns:\n",
        "        bool: True if all query proofs verify, False otherwise.\n",
        "    \"\"\"\n",
        "    commit_rounds = proof['commit_rounds']\n",
        "    final_poly = proof['final_poly']\n",
        "    for qp in proof['query_proofs']:\n",
        "        query_index = qp['query_index']\n",
        "        proof_steps = qp['proof_steps']\n",
        "        if not verify_query(commit_rounds, proof_steps, query_index, final_poly):\n",
        "            return False\n",
        "    # Dummy PoW check (always passes in this simulation)\n",
        "    return True"
      ],
      "metadata": {}
    },
    {
      "id": "0fd7c13b-98a3-47c8-965a-e0634a0927e2",
      "cell_type": "markdown",
      "source": [
        "### Testing the Proof System\n",
        "\n",
        "The following cell generates a random evaluation vector, runs the prover to produce a proof, and then verifies that proof."
      ],
      "metadata": {},
      "attachments": {}
    },
    {
      "id": "564bbfca-ac05-42fa-86c0-7e3c8c650475",
      "cell_type": "code",
      "execution_count": 6,
      "outputs": [
        {
          "output_type": "stream",
          "name": "stdout",
          "text": [
            "Initial Evaluation Vector:\n[0.37454012+0.30424224j 0.95071431+0.52475643j 0.73199394+0.43194502j\n 0.59865848+0.29122914j 0.15601864+0.61185289j 0.15599452+0.13949386j\n 0.05808361+0.29214465j 0.86617615+0.36636184j 0.60111501+0.45606998j\n 0.70807258+0.78517596j 0.02058449+0.19967378j 0.96990985+0.51423444j\n 0.83244264+0.59241457j 0.21233911+0.04645041j 0.18182497+0.60754485j\n 0.18340451+0.17052412j]\n\nGenerated Proof:\n{'commit_rounds': [{'evals': array([0.37454012+0.30424224j, 0.95071431+0.52475643j,\n       0.73199394+0.43194502j, 0.59865848+0.29122914j,\n       0.15601864+0.61185289j, 0.15599452+0.13949386j,\n       0.05808361+0.29214465j, 0.86617615+0.36636184j,\n       0.60111501+0.45606998j, 0.70807258+0.78517596j,\n       0.02058449+0.19967378j, 0.96990985+0.51423444j,\n       0.83244264+0.59241457j, 0.21233911+0.04645041j,\n       0.18182497+0.60754485j, 0.18340451+0.17052412j]), 'beta': 1.698999847555588}, {'evals': array([1.98980358+1.19580334j, 1.74911462+0.92674328j,\n       0.42105331+0.84885294j, 1.52971675+0.91459336j,\n       1.80413021+1.79008382j, 1.66846119+1.07335801j,\n       1.19320676+0.67133381j, 0.4934292 +0.89726531j]), 'beta': 0.17180607573430273}, {'evals': array([2.2903121 +1.35502347j, 0.68386794+1.00598564j,\n       2.09078198+1.97449325j, 1.27798089+0.82548945j]), 'beta': 0.6088997450624349}, {'evals': array([2.70671911+1.96756787j, 2.86894422+2.47713356j]), 'beta': 0.36129120962240335}], 'final_poly': (3.743243440360101+2.862534448229133j), 'query_proofs': [{'query_index': 8, 'proof_steps': [((0.6011150117432088+0.45606998421703593j), (0.7080725777960455+0.7851759613930136j)), ((1.8041302134769825+1.7900838229280784j), (1.6684611852616937+1.0733580146309194j)), ((2.0907819822317975+1.974493251279779j), (1.2779808922334537+0.8254894451481576j)), ((2.706719112160226+1.9675678665017404j), (2.8689442217074106+2.477133563982223j))]}, {'query_index': 6, 'proof_steps': [((0.05808361216819946+0.29214464853521815j), (0.8661761457749352+0.3663618432936917j)), ((0.4210533067131519+0.848852942705139j), (1.529716751796101+0.9145933644413846j)), ((2.2903120985537586+1.3550234670478742j), (0.6838679388242643+1.0059856395424462j)), ((2.706719112160226+1.9675678665017404j), (2.8689442217074106+2.477133563982223j))]}, {'query_index': 4, 'proof_steps': [((0.15601864044243652+0.6118528947223795j), (0.15599452033620265+0.13949386065204183j)), ((0.4210533067131519+0.848852942705139j), (1.529716751796101+0.9145933644413846j)), ((2.2903120985537586+1.3550234670478742j), (0.6838679388242643+1.0059856395424462j)), ((2.706719112160226+1.9675678665017404j), (2.8689442217074106+2.477133563982223j))]}], 'pow_witness': 14100371587337022533}\n\nProof Verification Result: True\n"
          ]
        }
      ],
      "source": [
        "# Set a random seed for reproducibility\n",
        "np.random.seed(42)\n",
        "\n",
        "# Generate a random evaluation vector of length 16 (must be a power of 2)\n",
        "evals = np.random.random(16) + 1j * np.random.random(16)\n",
        "print(\"Initial Evaluation Vector:\")\n",
        "print(evals)\n",
        "\n",
        "# Run the FRI prover to generate a proof (using 3 queries for demonstration)\n",
        "proof = prove(evals, num_queries=3, blowup=1)\n",
        "print(\"\\nGenerated Proof:\")\n",
        "print(proof)\n",
        "\n",
        "# Verify the generated proof\n",
        "is_valid = verify(proof, num_queries=3, blowup=1)\n",
        "print(\"\\nProof Verification Result:\", is_valid)"
      ],
      "metadata": {}
    },
    {
      "id": "d4e95267-7120-4da4-824d-13e0dff4f824",
      "cell_type": "markdown",
      "source": [
        "### Conclusion\n",
        "\n",
        "In this notebook, we simulated a simplified version of the FRI proof system as used in Circle STARK protocols. We demonstrated:\n",
        "- Commit Phase: Folding a polynomial evaluation vector using random challenge values.\n",
        "- Query Phase: Extracting opening proofs corresponding to specific query indices.\n",
        "- Verification: Recomputing folded values to ensure consistency with the final claimed constant.\n",
        "\n",
        "This simulation—while simplified—captures the core idea of how FRI proofs ensure that a function is close to a low-degree polynomial, a key step in STARK-based proofs."
      ],
      "metadata": {},
      "attachments": {}
    },
    {
      "id": "ad50212d-cb0e-4023-90b2-1102dd1e8059",
      "cell_type": "code",
      "execution_count": null,
      "outputs": [],
      "source": [
        ""
      ],
      "metadata": {}
    }
  ],
  "metadata": {},
  "nbformat": 4,
  "nbformat_minor": 5
}